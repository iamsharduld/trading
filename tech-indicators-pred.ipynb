{
 "cells": [
  {
   "cell_type": "code",
   "execution_count": 11,
   "id": "0d1d3aa8",
   "metadata": {},
   "outputs": [],
   "source": [
    "import talib\n",
    "import numpy\n",
    "import pandas as pd"
   ]
  },
  {
   "cell_type": "code",
   "execution_count": 12,
   "id": "f6fc54e9",
   "metadata": {},
   "outputs": [],
   "source": [
    "c = numpy.random.randn(100)"
   ]
  },
  {
   "cell_type": "code",
   "execution_count": 13,
   "id": "d555404d",
   "metadata": {},
   "outputs": [],
   "source": [
    "k, d = talib.STOCHRSI(c)"
   ]
  },
  {
   "cell_type": "code",
   "execution_count": 14,
   "id": "75f830dc",
   "metadata": {},
   "outputs": [
    {
     "data": {
      "text/plain": [
       "array([         nan,          nan,          nan,          nan,\n",
       "                nan,          nan,          nan,          nan,\n",
       "                nan,          nan,          nan,          nan,\n",
       "                nan,          nan,          nan,          nan,\n",
       "                nan,          nan,          nan,          nan,\n",
       "         0.        ,  21.96337915, 100.        ,  63.26086987,\n",
       "        89.80349249,   0.        ,   0.        , 100.        ,\n",
       "        40.74953792,   0.        ,  45.13587587,  78.16071732,\n",
       "        54.07658414, 100.        , 100.        ,  63.27898018,\n",
       "        28.7711654 ,   0.        ,  77.92829962, 100.        ,\n",
       "        39.95751309,  67.44181277,  45.00845925,   0.        ,\n",
       "       100.        ,   0.        ,  20.71102924, 100.        ,\n",
       "        38.83899251,   0.        ,  47.37065417,   3.65487994,\n",
       "        95.53219786, 100.        ,   0.        ,  90.28265644,\n",
       "        49.86358272,  44.12781388,  49.2451543 ,  85.94046846,\n",
       "         0.        ,  47.08623417,  57.27011023,  28.00113261,\n",
       "        10.85724944, 100.        , 100.        ,  32.04092364,\n",
       "         0.        ,   0.        ,  17.93307226,  96.79856997,\n",
       "         0.        ,   0.        ,  40.36829892,  87.8094836 ,\n",
       "       100.        , 100.        ,  18.29858306, 100.        ,\n",
       "         0.        ,  29.15293278,  24.00962619,   0.        ,\n",
       "       100.        , 100.        , 100.        ,  17.49545755,\n",
       "        55.31946435,  27.20413659,  15.61671948, 100.        ,\n",
       "        46.05449842,  37.20289205,  83.14375213,  60.30377578,\n",
       "         0.        , 100.        ,  43.30876931,  76.89440033])"
      ]
     },
     "execution_count": 14,
     "metadata": {},
     "output_type": "execute_result"
    }
   ],
   "source": [
    "k"
   ]
  },
  {
   "cell_type": "code",
   "execution_count": 15,
   "id": "9d8d1342",
   "metadata": {},
   "outputs": [],
   "source": [
    "df = pd.read_csv('spy.csv')"
   ]
  },
  {
   "cell_type": "code",
   "execution_count": 17,
   "id": "96bf2d0b",
   "metadata": {},
   "outputs": [],
   "source": [
    "df_close = df['Close']"
   ]
  },
  {
   "cell_type": "code",
   "execution_count": 18,
   "id": "ae347adf",
   "metadata": {},
   "outputs": [
    {
     "data": {
      "text/plain": [
       "0      335.570007\n",
       "1      332.799988\n",
       "2      337.440002\n",
       "3      336.829987\n",
       "4      336.839996\n",
       "          ...    \n",
       "247    441.149994\n",
       "248    438.980011\n",
       "249    441.760010\n",
       "250    442.489990\n",
       "251    442.130005\n",
       "Name: Close, Length: 252, dtype: float64"
      ]
     },
     "execution_count": 18,
     "metadata": {},
     "output_type": "execute_result"
    }
   ],
   "source": [
    "df_close"
   ]
  },
  {
   "cell_type": "code",
   "execution_count": 38,
   "id": "d3b89077",
   "metadata": {},
   "outputs": [],
   "source": [
    "k = talib.RSI(df_close)"
   ]
  },
  {
   "cell_type": "code",
   "execution_count": 39,
   "id": "a9dc3207",
   "metadata": {},
   "outputs": [
    {
     "data": {
      "text/plain": [
       "242    61.228145\n",
       "243    60.894727\n",
       "244    63.083439\n",
       "245    58.908471\n",
       "246    57.157106\n",
       "247    61.879841\n",
       "248    57.704287\n",
       "249    61.306550\n",
       "250    62.216530\n",
       "251    61.449049\n",
       "dtype: float64"
      ]
     },
     "execution_count": 39,
     "metadata": {},
     "output_type": "execute_result"
    }
   ],
   "source": [
    "k.tail(10)"
   ]
  },
  {
   "cell_type": "code",
   "execution_count": 40,
   "id": "0c9d27a8",
   "metadata": {},
   "outputs": [
    {
     "data": {
      "text/plain": [
       "0            NaN\n",
       "1            NaN\n",
       "2            NaN\n",
       "3            NaN\n",
       "4            NaN\n",
       "         ...    \n",
       "247    61.879841\n",
       "248    57.704287\n",
       "249    61.306550\n",
       "250    62.216530\n",
       "251    61.449049\n",
       "Length: 252, dtype: float64"
      ]
     },
     "execution_count": 40,
     "metadata": {},
     "output_type": "execute_result"
    }
   ],
   "source": [
    "k"
   ]
  },
  {
   "cell_type": "code",
   "execution_count": null,
   "id": "d588df69",
   "metadata": {},
   "outputs": [],
   "source": []
  }
 ],
 "metadata": {
  "kernelspec": {
   "display_name": "Python 3",
   "language": "python",
   "name": "python3"
  },
  "language_info": {
   "codemirror_mode": {
    "name": "ipython",
    "version": 3
   },
   "file_extension": ".py",
   "mimetype": "text/x-python",
   "name": "python",
   "nbconvert_exporter": "python",
   "pygments_lexer": "ipython3",
   "version": "3.9.1"
  }
 },
 "nbformat": 4,
 "nbformat_minor": 5
}
