{
 "cells": [
  {
   "cell_type": "code",
   "execution_count": 50,
   "id": "1b0feea7",
   "metadata": {},
   "outputs": [],
   "source": [
    "import talib\n",
    "import numpy\n",
    "import pandas as pd"
   ]
  },
  {
   "cell_type": "code",
   "execution_count": 68,
   "id": "81b56dea",
   "metadata": {},
   "outputs": [
    {
     "data": {
      "text/html": [
       "<div>\n",
       "<style scoped>\n",
       "    .dataframe tbody tr th:only-of-type {\n",
       "        vertical-align: middle;\n",
       "    }\n",
       "\n",
       "    .dataframe tbody tr th {\n",
       "        vertical-align: top;\n",
       "    }\n",
       "\n",
       "    .dataframe thead th {\n",
       "        text-align: right;\n",
       "    }\n",
       "</style>\n",
       "<table border=\"1\" class=\"dataframe\">\n",
       "  <thead>\n",
       "    <tr style=\"text-align: right;\">\n",
       "      <th></th>\n",
       "      <th>Date</th>\n",
       "      <th>Open</th>\n",
       "      <th>High</th>\n",
       "      <th>Low</th>\n",
       "      <th>Close</th>\n",
       "      <th>Adj Close</th>\n",
       "      <th>Volume</th>\n",
       "    </tr>\n",
       "  </thead>\n",
       "  <tbody>\n",
       "    <tr>\n",
       "      <th>0</th>\n",
       "      <td>8/10/20</td>\n",
       "      <td>335.059998</td>\n",
       "      <td>335.769989</td>\n",
       "      <td>332.959991</td>\n",
       "      <td>335.570007</td>\n",
       "      <td>330.645203</td>\n",
       "      <td>44282100</td>\n",
       "    </tr>\n",
       "    <tr>\n",
       "      <th>1</th>\n",
       "      <td>8/11/20</td>\n",
       "      <td>336.850006</td>\n",
       "      <td>337.540009</td>\n",
       "      <td>332.010010</td>\n",
       "      <td>332.799988</td>\n",
       "      <td>327.915833</td>\n",
       "      <td>69601100</td>\n",
       "    </tr>\n",
       "    <tr>\n",
       "      <th>2</th>\n",
       "      <td>8/12/20</td>\n",
       "      <td>335.440002</td>\n",
       "      <td>338.279999</td>\n",
       "      <td>335.410004</td>\n",
       "      <td>337.440002</td>\n",
       "      <td>332.487732</td>\n",
       "      <td>53774400</td>\n",
       "    </tr>\n",
       "    <tr>\n",
       "      <th>3</th>\n",
       "      <td>8/13/20</td>\n",
       "      <td>336.609985</td>\n",
       "      <td>338.250000</td>\n",
       "      <td>335.829987</td>\n",
       "      <td>336.829987</td>\n",
       "      <td>331.886688</td>\n",
       "      <td>41816100</td>\n",
       "    </tr>\n",
       "    <tr>\n",
       "      <th>4</th>\n",
       "      <td>8/14/20</td>\n",
       "      <td>336.410004</td>\n",
       "      <td>337.420013</td>\n",
       "      <td>335.619995</td>\n",
       "      <td>336.839996</td>\n",
       "      <td>331.896545</td>\n",
       "      <td>47260400</td>\n",
       "    </tr>\n",
       "    <tr>\n",
       "      <th>...</th>\n",
       "      <td>...</td>\n",
       "      <td>...</td>\n",
       "      <td>...</td>\n",
       "      <td>...</td>\n",
       "      <td>...</td>\n",
       "      <td>...</td>\n",
       "      <td>...</td>\n",
       "    </tr>\n",
       "    <tr>\n",
       "      <th>247</th>\n",
       "      <td>8/3/21</td>\n",
       "      <td>438.440002</td>\n",
       "      <td>441.279999</td>\n",
       "      <td>436.100006</td>\n",
       "      <td>441.149994</td>\n",
       "      <td>441.149994</td>\n",
       "      <td>58053900</td>\n",
       "    </tr>\n",
       "    <tr>\n",
       "      <th>248</th>\n",
       "      <td>8/4/21</td>\n",
       "      <td>439.779999</td>\n",
       "      <td>441.119995</td>\n",
       "      <td>438.730011</td>\n",
       "      <td>438.980011</td>\n",
       "      <td>438.980011</td>\n",
       "      <td>46732200</td>\n",
       "    </tr>\n",
       "    <tr>\n",
       "      <th>249</th>\n",
       "      <td>8/5/21</td>\n",
       "      <td>440.220001</td>\n",
       "      <td>441.850006</td>\n",
       "      <td>439.880005</td>\n",
       "      <td>441.760010</td>\n",
       "      <td>441.760010</td>\n",
       "      <td>38969700</td>\n",
       "    </tr>\n",
       "    <tr>\n",
       "      <th>250</th>\n",
       "      <td>8/6/21</td>\n",
       "      <td>442.100006</td>\n",
       "      <td>442.940002</td>\n",
       "      <td>441.799988</td>\n",
       "      <td>442.489990</td>\n",
       "      <td>442.489990</td>\n",
       "      <td>46864100</td>\n",
       "    </tr>\n",
       "    <tr>\n",
       "      <th>251</th>\n",
       "      <td>8/9/21</td>\n",
       "      <td>442.459991</td>\n",
       "      <td>442.799988</td>\n",
       "      <td>441.309998</td>\n",
       "      <td>442.130005</td>\n",
       "      <td>442.130005</td>\n",
       "      <td>41222600</td>\n",
       "    </tr>\n",
       "  </tbody>\n",
       "</table>\n",
       "<p>252 rows × 7 columns</p>\n",
       "</div>"
      ],
      "text/plain": [
       "        Date        Open        High         Low       Close   Adj Close  \\\n",
       "0    8/10/20  335.059998  335.769989  332.959991  335.570007  330.645203   \n",
       "1    8/11/20  336.850006  337.540009  332.010010  332.799988  327.915833   \n",
       "2    8/12/20  335.440002  338.279999  335.410004  337.440002  332.487732   \n",
       "3    8/13/20  336.609985  338.250000  335.829987  336.829987  331.886688   \n",
       "4    8/14/20  336.410004  337.420013  335.619995  336.839996  331.896545   \n",
       "..       ...         ...         ...         ...         ...         ...   \n",
       "247   8/3/21  438.440002  441.279999  436.100006  441.149994  441.149994   \n",
       "248   8/4/21  439.779999  441.119995  438.730011  438.980011  438.980011   \n",
       "249   8/5/21  440.220001  441.850006  439.880005  441.760010  441.760010   \n",
       "250   8/6/21  442.100006  442.940002  441.799988  442.489990  442.489990   \n",
       "251   8/9/21  442.459991  442.799988  441.309998  442.130005  442.130005   \n",
       "\n",
       "       Volume  \n",
       "0    44282100  \n",
       "1    69601100  \n",
       "2    53774400  \n",
       "3    41816100  \n",
       "4    47260400  \n",
       "..        ...  \n",
       "247  58053900  \n",
       "248  46732200  \n",
       "249  38969700  \n",
       "250  46864100  \n",
       "251  41222600  \n",
       "\n",
       "[252 rows x 7 columns]"
      ]
     },
     "execution_count": 68,
     "metadata": {},
     "output_type": "execute_result"
    }
   ],
   "source": [
    "df = pd.read_csv('spy.csv')\n",
    "df"
   ]
  },
  {
   "cell_type": "code",
   "execution_count": null,
   "id": "901fa4ca",
   "metadata": {},
   "outputs": [],
   "source": [
    "df_close = df['Close']\n",
    "df_close"
   ]
  },
  {
   "cell_type": "code",
   "execution_count": 54,
   "id": "51b985ed",
   "metadata": {},
   "outputs": [
    {
     "data": {
      "text/plain": [
       "242    61.228145\n",
       "243    60.894727\n",
       "244    63.083439\n",
       "245    58.908471\n",
       "246    57.157106\n",
       "247    61.879841\n",
       "248    57.704287\n",
       "249    61.306550\n",
       "250    62.216530\n",
       "251    61.449049\n",
       "dtype: float64"
      ]
     },
     "execution_count": 54,
     "metadata": {},
     "output_type": "execute_result"
    }
   ],
   "source": [
    "rsi = talib.RSI(df_close)\n",
    "rsi.tail(10)"
   ]
  },
  {
   "cell_type": "code",
   "execution_count": 63,
   "id": "f968a7e7",
   "metadata": {},
   "outputs": [
    {
     "data": {
      "text/plain": [
       "(0           NaN\n",
       " 1           NaN\n",
       " 2           NaN\n",
       " 3           NaN\n",
       " 4           NaN\n",
       "          ...   \n",
       " 247    3.408839\n",
       " 248    3.260946\n",
       " 249    3.329680\n",
       " 250    3.403819\n",
       " 251    3.394398\n",
       " Length: 252, dtype: float64,\n",
       " 0           NaN\n",
       " 1           NaN\n",
       " 2           NaN\n",
       " 3           NaN\n",
       " 4           NaN\n",
       "          ...   \n",
       " 247    3.390207\n",
       " 248    3.364355\n",
       " 249    3.357420\n",
       " 250    3.366700\n",
       " 251    3.372239\n",
       " Length: 252, dtype: float64,\n",
       " 0           NaN\n",
       " 1           NaN\n",
       " 2           NaN\n",
       " 3           NaN\n",
       " 4           NaN\n",
       "          ...   \n",
       " 247    0.018631\n",
       " 248   -0.103409\n",
       " 249   -0.027740\n",
       " 250    0.037119\n",
       " 251    0.022159\n",
       " Length: 252, dtype: float64)"
      ]
     },
     "execution_count": 63,
     "metadata": {},
     "output_type": "execute_result"
    }
   ],
   "source": [
    "MACD = talib.MACD(df_close)\n",
    "MACD"
   ]
  },
  {
   "cell_type": "code",
   "execution_count": 70,
   "id": "35c0c47e",
   "metadata": {},
   "outputs": [
    {
     "data": {
      "text/plain": [
       "232    3.524122\n",
       "233    3.487399\n",
       "234    3.489727\n",
       "235    3.607603\n",
       "236    4.024203\n",
       "237    4.278904\n",
       "238    4.236840\n",
       "239    4.079208\n",
       "240    4.133551\n",
       "241    3.964725\n",
       "242    4.040816\n",
       "243    3.965757\n",
       "244    3.894631\n",
       "245    3.822158\n",
       "246    3.814861\n",
       "247    3.912371\n",
       "248    3.805771\n",
       "249    3.738930\n",
       "250    3.556149\n",
       "251    3.408566\n",
       "dtype: float64"
      ]
     },
     "execution_count": 70,
     "metadata": {},
     "output_type": "execute_result"
    }
   ],
   "source": [
    "ATR = talib.ATR(df['High'], df['Low'], df['Adj Close'], 14)\n",
    "ATR.tail(20)"
   ]
  },
  {
   "cell_type": "code",
   "execution_count": null,
   "id": "159cad09",
   "metadata": {},
   "outputs": [],
   "source": []
  },
  {
   "cell_type": "code",
   "execution_count": null,
   "id": "b7c25a10",
   "metadata": {},
   "outputs": [],
   "source": []
  },
  {
   "cell_type": "code",
   "execution_count": null,
   "id": "87e4b23b",
   "metadata": {},
   "outputs": [],
   "source": []
  },
  {
   "cell_type": "code",
   "execution_count": null,
   "id": "6cfa4cf9",
   "metadata": {},
   "outputs": [],
   "source": []
  },
  {
   "cell_type": "code",
   "execution_count": null,
   "id": "59656e2f",
   "metadata": {},
   "outputs": [],
   "source": []
  },
  {
   "cell_type": "code",
   "execution_count": null,
   "id": "db30b7cc",
   "metadata": {},
   "outputs": [],
   "source": []
  },
  {
   "cell_type": "code",
   "execution_count": null,
   "id": "a68b4fff",
   "metadata": {},
   "outputs": [],
   "source": []
  }
 ],
 "metadata": {
  "kernelspec": {
   "display_name": "Python 3",
   "language": "python",
   "name": "python3"
  },
  "language_info": {
   "codemirror_mode": {
    "name": "ipython",
    "version": 3
   },
   "file_extension": ".py",
   "mimetype": "text/x-python",
   "name": "python",
   "nbconvert_exporter": "python",
   "pygments_lexer": "ipython3",
   "version": "3.9.1"
  }
 },
 "nbformat": 4,
 "nbformat_minor": 5
}
