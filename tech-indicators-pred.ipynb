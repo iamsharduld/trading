{
 "cells": [
  {
   "cell_type": "code",
   "execution_count": 50,
   "id": "46991082",
   "metadata": {},
   "outputs": [],
   "source": [
    "import talib\n",
    "import numpy\n",
    "import pandas as pd"
   ]
  },
  {
   "cell_type": "code",
   "execution_count": 51,
   "id": "5f0fa5b6",
   "metadata": {},
   "outputs": [
    {
     "data": {
      "text/plain": [
       "0      335.570007\n",
       "1      332.799988\n",
       "2      337.440002\n",
       "3      336.829987\n",
       "4      336.839996\n",
       "          ...    \n",
       "247    441.149994\n",
       "248    438.980011\n",
       "249    441.760010\n",
       "250    442.489990\n",
       "251    442.130005\n",
       "Name: Close, Length: 252, dtype: float64"
      ]
     },
     "execution_count": 51,
     "metadata": {},
     "output_type": "execute_result"
    }
   ],
   "source": [
    "df = pd.read_csv('spy.csv')\n",
    "df_close = df['Close']\n",
    "df_close"
   ]
  },
  {
   "cell_type": "code",
   "execution_count": 52,
   "id": "6e5d5b6e",
   "metadata": {},
   "outputs": [],
   "source": [
    "rsi = talib.RSI(df_close)"
   ]
  },
  {
   "cell_type": "code",
   "execution_count": 53,
   "id": "9c1b232e",
   "metadata": {},
   "outputs": [
    {
     "data": {
      "text/plain": [
       "242    61.228145\n",
       "243    60.894727\n",
       "244    63.083439\n",
       "245    58.908471\n",
       "246    57.157106\n",
       "247    61.879841\n",
       "248    57.704287\n",
       "249    61.306550\n",
       "250    62.216530\n",
       "251    61.449049\n",
       "dtype: float64"
      ]
     },
     "execution_count": 53,
     "metadata": {},
     "output_type": "execute_result"
    }
   ],
   "source": [
    "rsi.tail(10)"
   ]
  },
  {
   "cell_type": "code",
   "execution_count": null,
   "id": "60fb3867",
   "metadata": {},
   "outputs": [],
   "source": []
  },
  {
   "cell_type": "code",
   "execution_count": null,
   "id": "357f8db6",
   "metadata": {},
   "outputs": [],
   "source": []
  },
  {
   "cell_type": "code",
   "execution_count": null,
   "id": "886bc98d",
   "metadata": {},
   "outputs": [],
   "source": []
  },
  {
   "cell_type": "code",
   "execution_count": null,
   "id": "47ffad55",
   "metadata": {},
   "outputs": [],
   "source": []
  },
  {
   "cell_type": "code",
   "execution_count": null,
   "id": "c28a80f4",
   "metadata": {},
   "outputs": [],
   "source": []
  },
  {
   "cell_type": "code",
   "execution_count": null,
   "id": "227eb76f",
   "metadata": {},
   "outputs": [],
   "source": []
  },
  {
   "cell_type": "code",
   "execution_count": null,
   "id": "cf2a7791",
   "metadata": {},
   "outputs": [],
   "source": []
  },
  {
   "cell_type": "code",
   "execution_count": null,
   "id": "bd4c850a",
   "metadata": {},
   "outputs": [],
   "source": []
  }
 ],
 "metadata": {
  "kernelspec": {
   "display_name": "Python 3",
   "language": "python",
   "name": "python3"
  },
  "language_info": {
   "codemirror_mode": {
    "name": "ipython",
    "version": 3
   },
   "file_extension": ".py",
   "mimetype": "text/x-python",
   "name": "python",
   "nbconvert_exporter": "python",
   "pygments_lexer": "ipython3",
   "version": "3.9.1"
  }
 },
 "nbformat": 4,
 "nbformat_minor": 5
}
