{
 "cells": [
  {
   "cell_type": "code",
   "execution_count": 1,
   "id": "90b34f02",
   "metadata": {},
   "outputs": [],
   "source": [
    "import yfinance as yf"
   ]
  },
  {
   "cell_type": "code",
   "execution_count": 2,
   "id": "ccc4506b",
   "metadata": {},
   "outputs": [
    {
     "name": "stdout",
     "output_type": "stream",
     "text": [
      "[*********************100%***********************]  1 of 1 completed\n"
     ]
    }
   ],
   "source": [
    "data = yf.download(\"SPY\", start=\"2021-07-04\", end=\"2021-08-11\", interval=\"1d\")"
   ]
  },
  {
   "cell_type": "code",
   "execution_count": 4,
   "id": "e8d2dbd5",
   "metadata": {},
   "outputs": [],
   "source": [
    "x = data['Close'].shift(1)\n",
    "data['change%'] = 100*((data['Close'] - x)/x)\n",
    "data['changeHigh'] = 100*((data['High'] - x)/x)\n",
    "data['changeLow'] = 100*((data['Low'] - x)/x)\n",
    "\n"
   ]
  },
  {
   "cell_type": "code",
   "execution_count": 6,
   "id": "09f46dc0",
   "metadata": {},
   "outputs": [],
   "source": [
    "data.to_excel(\"port.xlsx\")"
   ]
  },
  {
   "cell_type": "code",
   "execution_count": 64,
   "id": "3f2471bc",
   "metadata": {},
   "outputs": [
    {
     "name": "stdout",
     "output_type": "stream",
     "text": [
      "[*********************100%***********************]  1 of 1 completed\n"
     ]
    }
   ],
   "source": [
    "datamin = yf.download(\"SPY\", start=\"2021-08-05\", end=\"2021-08-11\", interval=\"1m\")"
   ]
  },
  {
   "cell_type": "code",
   "execution_count": 65,
   "id": "fc0c8893",
   "metadata": {},
   "outputs": [
    {
     "data": {
      "text/html": [
       "<div>\n",
       "<style scoped>\n",
       "    .dataframe tbody tr th:only-of-type {\n",
       "        vertical-align: middle;\n",
       "    }\n",
       "\n",
       "    .dataframe tbody tr th {\n",
       "        vertical-align: top;\n",
       "    }\n",
       "\n",
       "    .dataframe thead th {\n",
       "        text-align: right;\n",
       "    }\n",
       "</style>\n",
       "<table border=\"1\" class=\"dataframe\">\n",
       "  <thead>\n",
       "    <tr style=\"text-align: right;\">\n",
       "      <th></th>\n",
       "      <th>Open</th>\n",
       "      <th>High</th>\n",
       "      <th>Low</th>\n",
       "      <th>Close</th>\n",
       "      <th>Adj Close</th>\n",
       "      <th>Volume</th>\n",
       "    </tr>\n",
       "    <tr>\n",
       "      <th>Datetime</th>\n",
       "      <th></th>\n",
       "      <th></th>\n",
       "      <th></th>\n",
       "      <th></th>\n",
       "      <th></th>\n",
       "      <th></th>\n",
       "    </tr>\n",
       "  </thead>\n",
       "  <tbody>\n",
       "    <tr>\n",
       "      <th>2021-08-05 09:30:00-04:00</th>\n",
       "      <td>440.119995</td>\n",
       "      <td>440.135010</td>\n",
       "      <td>440.109985</td>\n",
       "      <td>440.109985</td>\n",
       "      <td>440.109985</td>\n",
       "      <td>1184408</td>\n",
       "    </tr>\n",
       "    <tr>\n",
       "      <th>2021-08-05 09:31:00-04:00</th>\n",
       "      <td>440.100006</td>\n",
       "      <td>440.279999</td>\n",
       "      <td>439.940002</td>\n",
       "      <td>440.250000</td>\n",
       "      <td>440.250000</td>\n",
       "      <td>232170</td>\n",
       "    </tr>\n",
       "    <tr>\n",
       "      <th>2021-08-05 09:32:00-04:00</th>\n",
       "      <td>440.239990</td>\n",
       "      <td>440.279999</td>\n",
       "      <td>439.894989</td>\n",
       "      <td>439.980011</td>\n",
       "      <td>439.980011</td>\n",
       "      <td>377308</td>\n",
       "    </tr>\n",
       "    <tr>\n",
       "      <th>2021-08-05 09:33:00-04:00</th>\n",
       "      <td>439.989990</td>\n",
       "      <td>440.190002</td>\n",
       "      <td>439.980011</td>\n",
       "      <td>440.075012</td>\n",
       "      <td>440.075012</td>\n",
       "      <td>203661</td>\n",
       "    </tr>\n",
       "    <tr>\n",
       "      <th>2021-08-05 09:34:00-04:00</th>\n",
       "      <td>440.079987</td>\n",
       "      <td>440.390015</td>\n",
       "      <td>440.079987</td>\n",
       "      <td>440.250000</td>\n",
       "      <td>440.250000</td>\n",
       "      <td>254597</td>\n",
       "    </tr>\n",
       "    <tr>\n",
       "      <th>...</th>\n",
       "      <td>...</td>\n",
       "      <td>...</td>\n",
       "      <td>...</td>\n",
       "      <td>...</td>\n",
       "      <td>...</td>\n",
       "      <td>...</td>\n",
       "    </tr>\n",
       "    <tr>\n",
       "      <th>2021-08-10 15:55:00-04:00</th>\n",
       "      <td>442.279999</td>\n",
       "      <td>442.299988</td>\n",
       "      <td>442.209991</td>\n",
       "      <td>442.269989</td>\n",
       "      <td>442.269989</td>\n",
       "      <td>232231</td>\n",
       "    </tr>\n",
       "    <tr>\n",
       "      <th>2021-08-10 15:56:00-04:00</th>\n",
       "      <td>442.260101</td>\n",
       "      <td>442.390015</td>\n",
       "      <td>442.250000</td>\n",
       "      <td>442.380005</td>\n",
       "      <td>442.380005</td>\n",
       "      <td>262788</td>\n",
       "    </tr>\n",
       "    <tr>\n",
       "      <th>2021-08-10 15:57:00-04:00</th>\n",
       "      <td>442.380005</td>\n",
       "      <td>442.489990</td>\n",
       "      <td>442.350006</td>\n",
       "      <td>442.480011</td>\n",
       "      <td>442.480011</td>\n",
       "      <td>294449</td>\n",
       "    </tr>\n",
       "    <tr>\n",
       "      <th>2021-08-10 15:58:00-04:00</th>\n",
       "      <td>442.483887</td>\n",
       "      <td>442.489990</td>\n",
       "      <td>442.404999</td>\n",
       "      <td>442.480011</td>\n",
       "      <td>442.480011</td>\n",
       "      <td>653269</td>\n",
       "    </tr>\n",
       "    <tr>\n",
       "      <th>2021-08-10 15:59:00-04:00</th>\n",
       "      <td>442.480011</td>\n",
       "      <td>442.679993</td>\n",
       "      <td>442.470001</td>\n",
       "      <td>442.660004</td>\n",
       "      <td>442.660004</td>\n",
       "      <td>1689642</td>\n",
       "    </tr>\n",
       "  </tbody>\n",
       "</table>\n",
       "<p>1557 rows × 6 columns</p>\n",
       "</div>"
      ],
      "text/plain": [
       "                                 Open        High         Low       Close  \\\n",
       "Datetime                                                                    \n",
       "2021-08-05 09:30:00-04:00  440.119995  440.135010  440.109985  440.109985   \n",
       "2021-08-05 09:31:00-04:00  440.100006  440.279999  439.940002  440.250000   \n",
       "2021-08-05 09:32:00-04:00  440.239990  440.279999  439.894989  439.980011   \n",
       "2021-08-05 09:33:00-04:00  439.989990  440.190002  439.980011  440.075012   \n",
       "2021-08-05 09:34:00-04:00  440.079987  440.390015  440.079987  440.250000   \n",
       "...                               ...         ...         ...         ...   \n",
       "2021-08-10 15:55:00-04:00  442.279999  442.299988  442.209991  442.269989   \n",
       "2021-08-10 15:56:00-04:00  442.260101  442.390015  442.250000  442.380005   \n",
       "2021-08-10 15:57:00-04:00  442.380005  442.489990  442.350006  442.480011   \n",
       "2021-08-10 15:58:00-04:00  442.483887  442.489990  442.404999  442.480011   \n",
       "2021-08-10 15:59:00-04:00  442.480011  442.679993  442.470001  442.660004   \n",
       "\n",
       "                            Adj Close   Volume  \n",
       "Datetime                                        \n",
       "2021-08-05 09:30:00-04:00  440.109985  1184408  \n",
       "2021-08-05 09:31:00-04:00  440.250000   232170  \n",
       "2021-08-05 09:32:00-04:00  439.980011   377308  \n",
       "2021-08-05 09:33:00-04:00  440.075012   203661  \n",
       "2021-08-05 09:34:00-04:00  440.250000   254597  \n",
       "...                               ...      ...  \n",
       "2021-08-10 15:55:00-04:00  442.269989   232231  \n",
       "2021-08-10 15:56:00-04:00  442.380005   262788  \n",
       "2021-08-10 15:57:00-04:00  442.480011   294449  \n",
       "2021-08-10 15:58:00-04:00  442.480011   653269  \n",
       "2021-08-10 15:59:00-04:00  442.660004  1689642  \n",
       "\n",
       "[1557 rows x 6 columns]"
      ]
     },
     "execution_count": 65,
     "metadata": {},
     "output_type": "execute_result"
    }
   ],
   "source": [
    "datamin"
   ]
  },
  {
   "cell_type": "code",
   "execution_count": null,
   "id": "8a6f4320",
   "metadata": {},
   "outputs": [],
   "source": []
  }
 ],
 "metadata": {
  "kernelspec": {
   "display_name": "Python 3",
   "language": "python",
   "name": "python3"
  },
  "language_info": {
   "codemirror_mode": {
    "name": "ipython",
    "version": 3
   },
   "file_extension": ".py",
   "mimetype": "text/x-python",
   "name": "python",
   "nbconvert_exporter": "python",
   "pygments_lexer": "ipython3",
   "version": "3.9.2"
  }
 },
 "nbformat": 4,
 "nbformat_minor": 5
}
