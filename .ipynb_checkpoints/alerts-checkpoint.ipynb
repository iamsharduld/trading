{
 "cells": [
  {
   "cell_type": "code",
   "execution_count": 6,
   "id": "9aab1fb5",
   "metadata": {},
   "outputs": [],
   "source": [
    "import ccxt\n",
    "import pandas as pd\n",
    "\n",
    "symbol_data_map = {\n",
    "    'ETH': 'ETH/USDT',\n",
    "    'BTC': 'BTC/USDT'\n",
    "}\n",
    "\n",
    "def get_data(symbol):\n",
    "    binance = ccxt.binance()\n",
    "    # each ohlcv candle is a list of [ timestamp, open, high, low, close, volume ]\n",
    "    return binance.fetchOHLCV(symbol_data_map[symbol], timeframe='1h', params={})\n",
    "\n",
    "data = get_data('BTC')\n"
   ]
  },
  {
   "cell_type": "code",
   "execution_count": 8,
   "id": "c0561b1d",
   "metadata": {},
   "outputs": [
    {
     "ename": "NameError",
     "evalue": "name 'pd' is not defined",
     "output_type": "error",
     "traceback": [
      "\u001b[1;31m---------------------------------------------------------------------------\u001b[0m",
      "\u001b[1;31mNameError\u001b[0m                                 Traceback (most recent call last)",
      "\u001b[1;32m<ipython-input-8-8b06226cfe0a>\u001b[0m in \u001b[0;36m<module>\u001b[1;34m\u001b[0m\n\u001b[1;32m----> 1\u001b[1;33m \u001b[0mdf\u001b[0m \u001b[1;33m=\u001b[0m \u001b[0mpd\u001b[0m\u001b[1;33m.\u001b[0m\u001b[0mDataFrame\u001b[0m\u001b[1;33m(\u001b[0m\u001b[0mdata\u001b[0m\u001b[1;33m,\u001b[0m \u001b[0mcolumns\u001b[0m \u001b[1;33m=\u001b[0m\u001b[1;33m[\u001b[0m\u001b[1;34m'Time'\u001b[0m\u001b[1;33m,\u001b[0m \u001b[1;34m'Open'\u001b[0m\u001b[1;33m,\u001b[0m \u001b[1;34m'High'\u001b[0m\u001b[1;33m,\u001b[0m \u001b[1;34m'Low'\u001b[0m\u001b[1;33m,\u001b[0m \u001b[1;34m'Close'\u001b[0m\u001b[1;33m,\u001b[0m \u001b[1;34m'Volume'\u001b[0m\u001b[1;33m]\u001b[0m\u001b[1;33m)\u001b[0m\u001b[1;33m\u001b[0m\u001b[1;33m\u001b[0m\u001b[0m\n\u001b[0m",
      "\u001b[1;31mNameError\u001b[0m: name 'pd' is not defined"
     ]
    }
   ],
   "source": [
    "df = pd.DataFrame(data, columns =['Time', 'Open', 'High', 'Low', 'Close', 'Volume'])"
   ]
  },
  {
   "cell_type": "code",
   "execution_count": null,
   "id": "02328f80",
   "metadata": {},
   "outputs": [],
   "source": []
  }
 ],
 "metadata": {
  "kernelspec": {
   "display_name": "Python 3",
   "language": "python",
   "name": "python3"
  },
  "language_info": {
   "codemirror_mode": {
    "name": "ipython",
    "version": 3
   },
   "file_extension": ".py",
   "mimetype": "text/x-python",
   "name": "python",
   "nbconvert_exporter": "python",
   "pygments_lexer": "ipython3",
   "version": "3.9.2"
  }
 },
 "nbformat": 4,
 "nbformat_minor": 5
}
